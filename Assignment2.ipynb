{
  "nbformat": 4,
  "nbformat_minor": 0,
  "metadata": {
    "colab": {
      "provenance": [],
      "authorship_tag": "ABX9TyN1YxpL/r/vTjF+nycxavnM",
      "include_colab_link": true
    },
    "kernelspec": {
      "name": "python3",
      "display_name": "Python 3"
    },
    "language_info": {
      "name": "python"
    }
  },
  "cells": [
    {
      "cell_type": "markdown",
      "metadata": {
        "id": "view-in-github",
        "colab_type": "text"
      },
      "source": [
        "<a href=\"https://colab.research.google.com/github/Gurvani22/UCS712/blob/main/Assignment2.ipynb\" target=\"_parent\"><img src=\"https://colab.research.google.com/assets/colab-badge.svg\" alt=\"Open In Colab\"/></a>"
      ]
    },
    {
      "cell_type": "code",
      "execution_count": 9,
      "metadata": {
        "colab": {
          "base_uri": "https://localhost:8080/"
        },
        "id": "vzSS2bkURgup",
        "outputId": "f02efeb8-8208-47b9-ed22-7bd30245bc92"
      },
      "outputs": [
        {
          "output_type": "stream",
          "name": "stdout",
          "text": [
            "[10, 20, 30, 40, 50, 60, 70, 80, 200, 300]\n",
            "[20, 40, 50, 60, 70, 80, 200, 300]\n",
            "list in ascending order: [20, 40, 50, 60, 70, 80, 200, 300]\n",
            "list in  descending order: [300, 200, 80, 70, 60, 50, 40, 20]\n"
          ]
        }
      ],
      "source": [
        "L=[10,20,30,40,50,60,70,80]\n",
        "L.append(200)\n",
        "L.append(300)\n",
        "print(L)\n",
        "L.remove(10)\n",
        "L.remove(30)\n",
        "print(L)\n",
        "L.sort()\n",
        "print(\"list in ascending order:\",L)\n",
        "L.sort(reverse=True)\n",
        "print(\"list in  descending order:\",L)\n",
        "\n",
        "\n"
      ]
    },
    {
      "cell_type": "code",
      "source": [
        "scores = (45, 89.5, 76, 45.4, 89, 92, 58, 45)\n",
        "maxi=max(scores)\n",
        "print(\"highest score is:\",maxi)\n",
        "print(\"index of maximum score in tuple is:\",scores.index(maxi))\n",
        "mini=min(scores)\n",
        "print(\"lowest score is:\",mini)\n",
        "print(\"number of times lowest score appears:\",scores.count(mini))\n",
        "rev=scores[::-1]\n",
        "print(list(rev))\n",
        "new_s=input(\"enter the score to find:\")\n",
        "if(new_s in scores)==True:\n",
        "  print(\"present and at index:\",scores.index(new_s))\n",
        "else:\n",
        "  print(\"not present\")\n",
        "\n"
      ],
      "metadata": {
        "colab": {
          "base_uri": "https://localhost:8080/"
        },
        "id": "_6hsGiTLS1OR",
        "outputId": "f17c848e-5062-42ee-8197-3ba9e1d9f227"
      },
      "execution_count": 26,
      "outputs": [
        {
          "output_type": "stream",
          "name": "stdout",
          "text": [
            "highest score is: 92\n",
            "index of maximum score in tuple is: 5\n",
            "lowest score is: 45\n",
            "number of times lowest score appears: 2\n",
            "[45, 58, 92, 89, 45.4, 76, 89.5, 45]\n",
            "enter the score to find:12\n",
            "not present\n"
          ]
        }
      ]
    },
    {
      "cell_type": "code",
      "source": [
        "import random as r\n",
        "list=[]\n",
        "for i in range(100):\n",
        "  list.append(r.randint(100,900))\n",
        "ecnt=0\n",
        "pcnt=0\n",
        "elist=[]\n",
        "olist=[]\n",
        "plist=[]\n",
        "for number in list:\n",
        "  if number%2==0:\n",
        "    ecnt=ecnt+1\n",
        "    elist.append(number)\n",
        "  else:\n",
        "    olist.append(number)\n",
        "\n",
        "print(\"total even numbers are:\",ecnt,\" and these are:\")\n",
        "print(elist)\n",
        "print(\"total odd numbers are:\",100-ecnt,\" and these are:\")\n",
        "print(olist)\n",
        "\n",
        "\n",
        "\n",
        ""
      ],
      "metadata": {
        "colab": {
          "base_uri": "https://localhost:8080/"
        },
        "id": "fPFievRnXKQL",
        "outputId": "4243a135-a509-4376-e159-29a4cda8db9b"
      },
      "execution_count": 9,
      "outputs": [
        {
          "output_type": "stream",
          "name": "stdout",
          "text": [
            "total even numbers are: 58  and these are:\n",
            "[124, 700, 344, 258, 338, 774, 386, 182, 844, 550, 286, 386, 520, 798, 812, 414, 156, 592, 820, 146, 592, 312, 462, 414, 536, 280, 160, 334, 592, 276, 308, 476, 258, 470, 602, 252, 380, 576, 702, 648, 128, 588, 602, 630, 650, 782, 486, 224, 794, 656, 232, 498, 270, 150, 686, 104, 266, 208]\n",
            "total odd numbers are: 42  and these are:\n",
            "[257, 897, 817, 385, 187, 435, 817, 843, 451, 595, 871, 851, 605, 401, 583, 827, 863, 831, 193, 743, 289, 609, 181, 677, 631, 589, 319, 891, 329, 121, 161, 731, 311, 811, 801, 579, 759, 177, 567, 585, 653, 493]\n"
          ]
        }
      ]
    },
    {
      "cell_type": "code",
      "source": [
        "a = {34, 56, 78, 90}\n",
        "b = {78, 45, 90, 23}\n",
        "print(\"union of sets is\",a|b)\n",
        "print(\"intersection of sets is\",a&b)\n",
        "print(\"scores exclusive to both teams\",a-b)\n",
        "rem=input(\"enter the element to remove\")\n",
        "\n",
        "if (rem in a)==True:\n",
        "  a.remove(rem)\n",
        "else:\n",
        "  print(\"not present\")\n",
        "if (a|b==b):\n",
        "  print(\" a is a subset of b\")\n",
        "else:\n",
        "  print(\" a is not a subset of b\")\n"
      ],
      "metadata": {
        "colab": {
          "base_uri": "https://localhost:8080/"
        },
        "id": "1k0-TP7zZ1t5",
        "outputId": "79968fc8-22f5-44a6-f177-b8e9e9f9fa73"
      },
      "execution_count": 7,
      "outputs": [
        {
          "output_type": "stream",
          "name": "stdout",
          "text": [
            "union of sets is {34, 45, 78, 23, 56, 90}\n",
            "intersection of sets is {90, 78}\n",
            "scores exclusive to both teams {56, 34}\n",
            "enter the element to remove12\n",
            "not present\n",
            " a is not a subset of b\n"
          ]
        }
      ]
    },
    {
      "cell_type": "code",
      "source": [
        "initial={\"name\":\"gurvani\",\"age\":19,\"salary\":10000,\"city\":\"california\"}\n",
        "print(initial)\n",
        "initial['location']=initial.pop('city')\n",
        "initial"
      ],
      "metadata": {
        "colab": {
          "base_uri": "https://localhost:8080/"
        },
        "id": "tNhAQZYymCPm",
        "outputId": "edb6d86b-43ef-4f8a-c50d-6084529a83cc"
      },
      "execution_count": 8,
      "outputs": [
        {
          "output_type": "stream",
          "name": "stdout",
          "text": [
            "{'name': 'gurvani', 'age': 19, 'salary': 10000, 'city': 'california'}\n"
          ]
        },
        {
          "output_type": "execute_result",
          "data": {
            "text/plain": [
              "{'name': 'gurvani', 'age': 19, 'salary': 10000, 'location': 'california'}"
            ]
          },
          "metadata": {},
          "execution_count": 8
        }
      ]
    },
    {
      "cell_type": "markdown",
      "source": [],
      "metadata": {
        "id": "eVRibX6cnKBH"
      }
    }
  ]
}