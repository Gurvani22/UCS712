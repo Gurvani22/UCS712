{
  "nbformat": 4,
  "nbformat_minor": 0,
  "metadata": {
    "colab": {
      "provenance": []
    },
    "kernelspec": {
      "name": "python3",
      "display_name": "Python 3"
    },
    "language_info": {
      "name": "python"
    }
  },
  "cells": [
    {
      "cell_type": "code",
      "execution_count": null,
      "metadata": {
        "id": "iQHJW5KkyCKR"
      },
      "outputs": [],
      "source": []
    },
    {
      "cell_type": "code",
      "source": [
        "print(\"hello world\")\n"
      ],
      "metadata": {
        "colab": {
          "base_uri": "https://localhost:8080/"
        },
        "id": "eGk6k-IuyDTx",
        "outputId": "444ba194-af10-49ac-cbb9-c5f206e0b221"
      },
      "execution_count": null,
      "outputs": [
        {
          "output_type": "stream",
          "name": "stdout",
          "text": [
            "hello world\n"
          ]
        }
      ]
    },
    {
      "cell_type": "code",
      "source": [
        "print(\"Gurvani Ahuja\")\n",
        "print(\"Gurvani Ahuja\")\n",
        "print(\"Gurvani Ahuja\")"
      ],
      "metadata": {
        "colab": {
          "base_uri": "https://localhost:8080/"
        },
        "id": "LDtfvKAR2i6F",
        "outputId": "6ab34966-6426-4231-b64a-25273c7af8ec"
      },
      "execution_count": null,
      "outputs": [
        {
          "output_type": "stream",
          "name": "stdout",
          "text": [
            "Gurvani Ahuja\n",
            "Gurvani Ahuja\n",
            "Gurvani Ahuja\n"
          ]
        }
      ]
    },
    {
      "cell_type": "code",
      "source": [
        "a=2\n",
        "b=4\n",
        "c=5\n",
        "d=a+b+c\n",
        "print(a,\"+\",b,\"+\",c,\"->\",d)"
      ],
      "metadata": {
        "colab": {
          "base_uri": "https://localhost:8080/"
        },
        "id": "-KW8WC8w2yRU",
        "outputId": "1d23ecca-dc64-4626-a068-7a91c138646b"
      },
      "execution_count": null,
      "outputs": [
        {
          "output_type": "stream",
          "name": "stdout",
          "text": [
            "2 + 4 + 5 -> 11\n"
          ]
        }
      ]
    },
    {
      "cell_type": "code",
      "source": [
        "a=\"hellooo\"\n",
        "b=\"welcome\"\n",
        "c=\"home\"\n",
        "d=a+b+c\n",
        "print(a,\"+\",b,\"+\",c,\"->\",d)"
      ],
      "metadata": {
        "colab": {
          "base_uri": "https://localhost:8080/"
        },
        "id": "nrN9CYE_3T0K",
        "outputId": "5c690831-164f-4917-ecf1-772866830e0b"
      },
      "execution_count": null,
      "outputs": [
        {
          "output_type": "stream",
          "name": "stdout",
          "text": [
            "hellooo + welcome + home -> hellooowelcomehome\n"
          ]
        }
      ]
    },
    {
      "cell_type": "code",
      "source": [
        "a=input(\"enter first string\")\n",
        "b=input(\"enter second string\")\n",
        "c=a+b\n",
        "print(a,\"+\",b,\"->\",c)\n"
      ],
      "metadata": {
        "colab": {
          "base_uri": "https://localhost:8080/"
        },
        "id": "aM23Xu7a3-oS",
        "outputId": "61e08294-fd59-43fc-ffab-bd8576166069"
      },
      "execution_count": null,
      "outputs": [
        {
          "output_type": "stream",
          "name": "stdout",
          "text": [
            "enter first stringgurvani\n",
            "enter second stringahuja\n",
            "gurvani + ahuja -> gurvaniahuja\n"
          ]
        }
      ]
    },
    {
      "cell_type": "code",
      "source": [
        "a=int(input(\"enter first number\"))\n",
        "b=int(input(\"enter second number\"))\n",
        "c=a+b\n",
        "print(a,\"+\",b,\"->\",c)\n"
      ],
      "metadata": {
        "colab": {
          "base_uri": "https://localhost:8080/"
        },
        "id": "qg87i-iR4VpC",
        "outputId": "8bf2083b-6e60-441c-bdc1-c896dcfbd475"
      },
      "execution_count": null,
      "outputs": [
        {
          "output_type": "stream",
          "name": "stdout",
          "text": [
            "enter first number7\n",
            "enter second number22\n",
            "7 + 22 -> 29\n"
          ]
        }
      ]
    },
    {
      "cell_type": "code",
      "source": [
        "for i in range(1,11):\n",
        "  print(7,\"x\",i,\"=\",i*7)"
      ],
      "metadata": {
        "colab": {
          "base_uri": "https://localhost:8080/"
        },
        "id": "p1hbxAOE4zfe",
        "outputId": "356be29c-bce3-4ed0-a67f-c0c712eada8d"
      },
      "execution_count": null,
      "outputs": [
        {
          "output_type": "stream",
          "name": "stdout",
          "text": [
            "7 x 1 = 7\n",
            "7 x 2 = 14\n",
            "7 x 3 = 21\n",
            "7 x 4 = 28\n",
            "7 x 5 = 35\n",
            "7 x 6 = 42\n",
            "7 x 7 = 49\n",
            "7 x 8 = 56\n",
            "7 x 9 = 63\n",
            "7 x 10 = 70\n"
          ]
        }
      ]
    },
    {
      "cell_type": "code",
      "source": [
        "for i in range(1,11):\n",
        "  print(9,\"x\",i,\"=\",i*9)"
      ],
      "metadata": {
        "colab": {
          "base_uri": "https://localhost:8080/"
        },
        "id": "sEE_VyO85Hu4",
        "outputId": "4ce85220-0709-4e0f-dd97-317b6289803d"
      },
      "execution_count": null,
      "outputs": [
        {
          "output_type": "stream",
          "name": "stdout",
          "text": [
            "9 x 1 = 9\n",
            "9 x 2 = 18\n",
            "9 x 3 = 27\n",
            "9 x 4 = 36\n",
            "9 x 5 = 45\n",
            "9 x 6 = 54\n",
            "9 x 7 = 63\n",
            "9 x 8 = 72\n",
            "9 x 9 = 81\n",
            "9 x 10 = 90\n"
          ]
        }
      ]
    },
    {
      "cell_type": "code",
      "source": [
        "n=int(input(\"enter the number\"))\n",
        "for i in range(1,11):\n",
        "  print(n,\"x\",i,\"=\",i*n)"
      ],
      "metadata": {
        "colab": {
          "base_uri": "https://localhost:8080/"
        },
        "id": "ZMJeOwVV5OCm",
        "outputId": "5f4c1f33-33d7-46af-ff85-91f71c6379aa"
      },
      "execution_count": null,
      "outputs": [
        {
          "output_type": "stream",
          "name": "stdout",
          "text": [
            "enter the number11\n",
            "11 x 1 = 11\n",
            "11 x 2 = 22\n",
            "11 x 3 = 33\n",
            "11 x 4 = 44\n",
            "11 x 5 = 55\n",
            "11 x 6 = 66\n",
            "11 x 7 = 77\n",
            "11 x 8 = 88\n",
            "11 x 9 = 99\n",
            "11 x 10 = 110\n"
          ]
        }
      ]
    },
    {
      "cell_type": "code",
      "source": [
        "n=int(input(\"enter the number till which numbers are to be added\"))\n",
        "print(\"sum is--> \",sum(range(1,n+1)))"
      ],
      "metadata": {
        "colab": {
          "base_uri": "https://localhost:8080/"
        },
        "id": "uiVlVMlJ5hGC",
        "outputId": "ac26e37f-8317-47aa-8f9d-a4d875f54d4f"
      },
      "execution_count": null,
      "outputs": [
        {
          "output_type": "stream",
          "name": "stdout",
          "text": [
            "enter the number till which numbers are to be added10\n",
            "sum is-->  55\n"
          ]
        }
      ]
    },
    {
      "cell_type": "code",
      "source": [
        "a=int(input(\"enter first number\"))\n",
        "b=int(input(\"enter second number\"))\n",
        "c=int(input(\"enter third number\"))\n",
        "if a>=b:\n",
        "  if a>=c:\n",
        "    print(\"the largest number is\",a)\n",
        "  else:\n",
        "    print(\"the largest number is\",c)\n",
        "else:\n",
        "  if b>=c:\n",
        "     print(\"the largest number is\",b)\n",
        "  else:\n",
        "     print(\"the largest number is\",c)\n",
        "\n",
        "\n",
        "\n",
        "\n"
      ],
      "metadata": {
        "colab": {
          "base_uri": "https://localhost:8080/"
        },
        "id": "Bbe3HODQ6Jo2",
        "outputId": "d6956c93-3df8-4be2-92c7-8fa7905e7419"
      },
      "execution_count": null,
      "outputs": [
        {
          "output_type": "stream",
          "name": "stdout",
          "text": [
            "enter first number3\n",
            "enter second number5\n",
            "enter third number22\n",
            "the largest number is 22\n"
          ]
        }
      ]
    },
    {
      "cell_type": "code",
      "source": [
        "a=int(input(\"enter first number\"))\n",
        "b=int(input(\"enter second number\"))\n",
        "c=int(input(\"enter third number\"))\n",
        "print(\"max is-->\",max(a,b,c))"
      ],
      "metadata": {
        "colab": {
          "base_uri": "https://localhost:8080/"
        },
        "id": "rUP1RIdJ7dDZ",
        "outputId": "a94ecc9f-3d02-46dd-b176-418b08db2225"
      },
      "execution_count": null,
      "outputs": [
        {
          "output_type": "stream",
          "name": "stdout",
          "text": [
            "enter first number2\n",
            "enter second number4\n",
            "enter third number1\n",
            "max is--> 4\n"
          ]
        }
      ]
    },
    {
      "cell_type": "code",
      "source": [
        "a=int(input(\"enter n\"))\n",
        "ans=0\n",
        "for i in range(1,a+1):\n",
        "  if i%7==0 and i%9==0:\n",
        "    ans=ans+i\n",
        "print(\"the sum is\",ans)\n"
      ],
      "metadata": {
        "colab": {
          "base_uri": "https://localhost:8080/"
        },
        "id": "1hPmO2ED9-h9",
        "outputId": "6255025a-abd3-4f02-f0b4-7f9eaf12b7f3"
      },
      "execution_count": null,
      "outputs": [
        {
          "output_type": "stream",
          "name": "stdout",
          "text": [
            "enter n100\n",
            "the sum is 63\n"
          ]
        }
      ]
    },
    {
      "cell_type": "code",
      "source": [
        "n=int(input(\"enter n\"))\n",
        "ans=0\n",
        "f=0\n",
        "for i in range(2,n//2+1):\n",
        "  if n%i==0:\n",
        "   f=1\n",
        "   break\n",
        "if f==0:\n",
        "  ans=ans+a\n",
        "else:\n",
        "  ans=ans+0\n",
        "\n",
        "\n",
        "\n",
        "print(\"sum is\",ans)"
      ],
      "metadata": {
        "colab": {
          "base_uri": "https://localhost:8080/"
        },
        "id": "-ji0w0JPAVEr",
        "outputId": "5b0f788a-5b30-4f66-f15b-64293091b0fa"
      },
      "execution_count": null,
      "outputs": [
        {
          "output_type": "stream",
          "name": "stdout",
          "text": [
            "enter n10\n",
            "sum is 0\n"
          ]
        }
      ]
    },
    {
      "cell_type": "code",
      "source": [],
      "metadata": {
        "id": "2dTS5WdFGbH8"
      },
      "execution_count": null,
      "outputs": []
    },
    {
      "cell_type": "code",
      "source": [],
      "metadata": {
        "id": "64T9DCWfGe9k"
      },
      "execution_count": null,
      "outputs": []
    },
    {
      "cell_type": "code",
      "source": [
        "import math as m\n",
        "print(\"exp(-200)-->\",m.exp(-200))\n",
        "print(\"log(100,2)-->\",m.log(100,2))\n",
        "print(\"log(100,10)-->\",m.log(100,10))\n",
        "print(\"log10(100)-->\",m.log10(100))\n",
        "print(\"cos(30)-->\",m.cos(30))\n",
        "print(\"sin(30)-->\",m.sin(30))\n",
        "print(\"tan(30)-->\",m.tan(30))\n",
        "print(\"sqrt(25)-->\",m.sqrt(25))\n",
        "print(\"ceil(89.9)-->\",m.ceil(89.9))\n",
        "print(\"floor(89.9)-->\",m.floor(89.9))"
      ],
      "metadata": {
        "colab": {
          "base_uri": "https://localhost:8080/"
        },
        "id": "NhM8R5iPGc0h",
        "outputId": "cc02d252-2d9d-4866-a87e-e7599a757414"
      },
      "execution_count": null,
      "outputs": [
        {
          "output_type": "stream",
          "name": "stdout",
          "text": [
            "exp(-200)--> 1.3838965267367376e-87\n",
            "log(100,2)--> 6.643856189774725\n",
            "log(100,10)--> 2.0\n",
            "log10(100)--> 2.0\n",
            "cos(30)--> 0.15425144988758405\n",
            "sin(30)--> -0.9880316240928618\n",
            "tan(30)--> -6.405331196646276\n",
            "sqrt(25)--> 5.0\n",
            "ceil(89.9)--> 90\n",
            "floor(89.9)--> 89\n"
          ]
        }
      ]
    },
    {
      "cell_type": "code",
      "source": [
        "var='hello world'\n",
        "print(\"var -->\",var)\n",
        "print(\"var[0]-->\",var[0])\n",
        "print(\"var[1:5]-->\",var[1:5])\n",
        "print(\"var[0:5]-->\",var[0:5])"
      ],
      "metadata": {
        "colab": {
          "base_uri": "https://localhost:8080/"
        },
        "id": "VuXUWyr_JiE-",
        "outputId": "bad62b8e-7ec4-4041-f4af-5d1071dc6193"
      },
      "execution_count": null,
      "outputs": [
        {
          "output_type": "stream",
          "name": "stdout",
          "text": [
            "var --> hello world\n",
            "var[0]--> h\n",
            "var[1:5]--> ello\n",
            "var[0:5]--> hello\n"
          ]
        }
      ]
    },
    {
      "cell_type": "code",
      "source": [
        "var='gurvani ahuja'\n",
        "print(\"string-->\",var)\n",
        "print(\"length-->\",len(var))\n",
        "print(\"upper-->\",var.upper())\n",
        "print(\"lower-->\",var.lower())\n"
      ],
      "metadata": {
        "colab": {
          "base_uri": "https://localhost:8080/"
        },
        "id": "nMitpHiuKG4K",
        "outputId": "1a7baff0-b144-4e59-c4b5-ac836d772bf0"
      },
      "execution_count": null,
      "outputs": [
        {
          "output_type": "stream",
          "name": "stdout",
          "text": [
            "string--> gurvani ahuja\n",
            "length--> 13\n",
            "upper--> GURVANI AHUJA\n",
            "lower--> gurvani ahuja\n"
          ]
        }
      ]
    },
    {
      "cell_type": "code",
      "source": [
        "name=input(\"enter you name :\")\n",
        "age=int(input(\"enter your age :\"))\n",
        "price=float(input(\"enter the price of the book to buy:\"))\n",
        "s=\" your name is %s,age is %d ans price is %f\" %(name,age,price)\n",
        "print(s)"
      ],
      "metadata": {
        "colab": {
          "base_uri": "https://localhost:8080/"
        },
        "id": "5yiHGaD0KpJB",
        "outputId": "7dee6dcd-e21f-4f7b-eba4-08c08896d1a1"
      },
      "execution_count": null,
      "outputs": [
        {
          "output_type": "stream",
          "name": "stdout",
          "text": [
            "enter you name :gurvani\n",
            "enter your age :19\n",
            "enter the price of the book to buy:22.50\n",
            " your name is gurvani,age is 19 ans price is 22.500000\n"
          ]
        }
      ]
    },
    {
      "cell_type": "code",
      "source": [
        "para_str= \"\"\"Gurvani ahuja is the best\"\"\"\n",
        "print(para_str)"
      ],
      "metadata": {
        "colab": {
          "base_uri": "https://localhost:8080/"
        },
        "id": "k8ga0nSuL4Vw",
        "outputId": "1006c7ef-14ba-44cf-a340-0bb889e1058b"
      },
      "execution_count": null,
      "outputs": [
        {
          "output_type": "stream",
          "name": "stdout",
          "text": [
            "Gurvani ahuja is the best\n"
          ]
        }
      ]
    },
    {
      "cell_type": "code",
      "source": [
        "var=\"    hello world  \"\n",
        "print(var)\n",
        "print(len(var))\n",
        "print(var.strip())\n",
        "print(\"length of var after strip\",len(var.strip()))\n"
      ],
      "metadata": {
        "colab": {
          "base_uri": "https://localhost:8080/"
        },
        "id": "V7-38O91NBMi",
        "outputId": "d7f0b5d2-1738-404c-e7f9-9ec973445d90"
      },
      "execution_count": null,
      "outputs": [
        {
          "output_type": "stream",
          "name": "stdout",
          "text": [
            "    hello world  \n",
            "17\n",
            "hello world\n",
            "length of var after strip 11\n"
          ]
        }
      ]
    },
    {
      "cell_type": "code",
      "source": [
        "var=\"  hello world  \"\n",
        "print(\"string-->\",var)\n",
        "print(\"length-->\",len(var))\n",
        "print(\"var split-->\",var.split())\n",
        "print(\"var split-->\",var.split(' '))\n",
        "print(\"var split-->\",var.split(','))"
      ],
      "metadata": {
        "colab": {
          "base_uri": "https://localhost:8080/"
        },
        "id": "MrP1A2MxN7Y7",
        "outputId": "82d2e9e8-750a-4511-d2a1-705a9dcd2696"
      },
      "execution_count": null,
      "outputs": [
        {
          "output_type": "stream",
          "name": "stdout",
          "text": [
            "string-->   hello world  \n",
            "length--> 15\n",
            "var split--> ['hello', 'world']\n",
            "var split--> ['', '', 'hello', 'world', '', '']\n",
            "var split--> ['  hello world  ']\n"
          ]
        }
      ]
    },
    {
      "cell_type": "code",
      "source": [
        "var=\"   indian army  \"\n",
        "print(\"string-->\",var)\n",
        "print(\"length-->\",len(var))\n",
        "print(\"count of ' ' -->\",var.count(' '))\n",
        "print(\"count of 'a' -->\",var.count('a'))\n",
        "print(\"count of 'n' -->\",var.count('n'))\n",
        "\n"
      ],
      "metadata": {
        "colab": {
          "base_uri": "https://localhost:8080/"
        },
        "id": "ry8NRatVSZy3",
        "outputId": "eb2189ca-3c14-45a4-96af-ddfb8d380b77"
      },
      "execution_count": null,
      "outputs": [
        {
          "output_type": "stream",
          "name": "stdout",
          "text": [
            "string-->    indian army  \n",
            "length--> 16\n",
            "count of ' ' --> 6\n",
            "count of 'a' --> 2\n",
            "count of 'n' --> 2\n"
          ]
        }
      ]
    },
    {
      "cell_type": "code",
      "source": [
        "var=\"indian army\"\n",
        "print(\"string-->\",var)\n",
        "print(\"var[::1]-->\",var[::1])\n",
        "print(\"var[::2]-->\",var[::2])\n",
        "print(\"var[::-1]-->\",var[::-1])\n",
        "print(\"var[::-2]-->\",var[::-2])\n",
        "var=var[::-1]\n",
        "print(\"var after reverse-->\",var)"
      ],
      "metadata": {
        "colab": {
          "base_uri": "https://localhost:8080/"
        },
        "id": "Y8Yd_cycTlwB",
        "outputId": "5fc1ad31-0d1e-43ed-9848-e8f1f220730f"
      },
      "execution_count": null,
      "outputs": [
        {
          "output_type": "stream",
          "name": "stdout",
          "text": [
            "string--> indian army\n",
            "var[::1]--> indian army\n",
            "var[::2]--> ida ry\n",
            "var[::-1]--> ymra naidni\n",
            "var[::-2]--> yr adi\n",
            "var after reverse--> ymra naidni\n"
          ]
        }
      ]
    },
    {
      "cell_type": "code",
      "source": [
        "s1=\"gurvani ahuja\"\n",
        "s2=\"malayalam\"\n",
        "print(\"s1-->\",s1==s1[::-1])\n",
        "print(\"s2-->\",s2==s2[::-1])"
      ],
      "metadata": {
        "colab": {
          "base_uri": "https://localhost:8080/"
        },
        "id": "cOFrEKDZUyjN",
        "outputId": "b9383ca3-f2b4-4a82-ce6f-90c6b9dae857"
      },
      "execution_count": null,
      "outputs": [
        {
          "output_type": "stream",
          "name": "stdout",
          "text": [
            "s1--> False\n",
            "s2--> True\n"
          ]
        }
      ]
    },
    {
      "cell_type": "code",
      "source": [
        "import random as r\n",
        "print(r.random())\n",
        "print(round(r.random(),2))"
      ],
      "metadata": {
        "colab": {
          "base_uri": "https://localhost:8080/"
        },
        "id": "s2eS8UZkVbQg",
        "outputId": "7a24016d-40b1-4f84-b85a-c2e4c8036b3c"
      },
      "execution_count": null,
      "outputs": [
        {
          "output_type": "stream",
          "name": "stdout",
          "text": [
            "0.13678622544279662\n",
            "0.81\n"
          ]
        }
      ]
    },
    {
      "cell_type": "code",
      "source": [
        "import random as r\n",
        "print(r.randint(1,100))\n",
        "print(r.randint(1,88))\n",
        "print(r.randint(-22,22))\n"
      ],
      "metadata": {
        "colab": {
          "base_uri": "https://localhost:8080/"
        },
        "id": "2rsOPOAeVy19",
        "outputId": "59ff389f-2dba-44a1-fc20-1eb4b68d6816"
      },
      "execution_count": null,
      "outputs": [
        {
          "output_type": "stream",
          "name": "stdout",
          "text": [
            "88\n",
            "40\n",
            "-20\n"
          ]
        }
      ]
    },
    {
      "cell_type": "code",
      "source": [
        "import random as r\n",
        "print(r.uniform(1,100))\n",
        "print(r.uniform(1,77))\n",
        "print(r.uniform(-22,22))\n",
        "print(round(r.uniform(-10,10),3))"
      ],
      "metadata": {
        "colab": {
          "base_uri": "https://localhost:8080/"
        },
        "id": "u69Ah1NCWKQT",
        "outputId": "49fb6688-80ea-463a-c2f1-faa7bb8aa8f6"
      },
      "execution_count": null,
      "outputs": [
        {
          "output_type": "stream",
          "name": "stdout",
          "text": [
            "16.547549645757147\n",
            "29.087138954605923\n",
            "21.19066217548027\n",
            "7.162\n"
          ]
        }
      ]
    },
    {
      "cell_type": "code",
      "source": [
        "import random as r\n",
        "A=[1,2,3,4,5,6,7,8,9,10]\n",
        "print(r.sample(A,4))\n",
        "print(r.sample(A,7))\n",
        "print(r.sample(range(1,100),9))"
      ],
      "metadata": {
        "colab": {
          "base_uri": "https://localhost:8080/"
        },
        "id": "wOFJSxPVW-Cv",
        "outputId": "0535ac6c-5645-4d7a-e5e0-8290336415c4"
      },
      "execution_count": null,
      "outputs": [
        {
          "output_type": "stream",
          "name": "stdout",
          "text": [
            "[9, 6, 1, 3]\n",
            "[3, 6, 9, 1, 4, 10, 5]\n",
            "[17, 53, 81, 49, 92, 83, 39, 52, 10]\n"
          ]
        }
      ]
    },
    {
      "cell_type": "code",
      "source": [
        "import string as s\n",
        "import random as r\n",
        "s=\"welcome to google collab and learn how to do python\"\n",
        "print(\"string is-->\",s)\n",
        "pwrd=r.sample(s,5)\n",
        "print(\"pwrd-->\",pwrd)\n",
        "pwrd1=\"\".join(pwrd)\n",
        "print(pwrd1)\n",
        "pwrd2=\"/\".join(pwrd)\n",
        "print(pwrd2)"
      ],
      "metadata": {
        "colab": {
          "base_uri": "https://localhost:8080/"
        },
        "id": "Xz_W7M8zXtHC",
        "outputId": "89b9cf5c-5cea-425e-e800-464a86f7cfdc"
      },
      "execution_count": null,
      "outputs": [
        {
          "output_type": "stream",
          "name": "stdout",
          "text": [
            "string is--> welcome to google collab and learn how to do python\n",
            "pwrd--> ['o', 'd', 'm', ' ', 'r']\n",
            "odm r\n",
            "o/d/m/ /r\n"
          ]
        }
      ]
    },
    {
      "cell_type": "code",
      "source": [
        "import random as r\n",
        "import string as s\n",
        "print(\"digits-->\",s.digits)\n",
        "pwrd=r.sample(s.digits,6)\n",
        "print(pwrd)\n",
        "pwrd1=\"\".join(pwrd)\n",
        "print(pwrd1)"
      ],
      "metadata": {
        "colab": {
          "base_uri": "https://localhost:8080/"
        },
        "id": "4fXDV_-NZWE0",
        "outputId": "76348e6d-36c5-4801-a539-07a0aae99292"
      },
      "execution_count": null,
      "outputs": [
        {
          "output_type": "stream",
          "name": "stdout",
          "text": [
            "digits--> 0123456789\n",
            "['4', '1', '7', '6', '5', '2']\n",
            "417652\n"
          ]
        }
      ]
    },
    {
      "cell_type": "code",
      "source": [
        "import random as r\n",
        "import string as s\n",
        "print(\"string + digits-->\",s.ascii_letters+s.digits)\n",
        "mix=r.sample(s.ascii_letters+s.digits,5)\n",
        "print(mix)\n",
        "mix1=\"\".join(mix)\n",
        "print(mix1)\n"
      ],
      "metadata": {
        "colab": {
          "base_uri": "https://localhost:8080/"
        },
        "id": "k2eAWpKnantH",
        "outputId": "906c3dd0-f577-4b4d-c38b-a6484b0624d7"
      },
      "execution_count": null,
      "outputs": [
        {
          "output_type": "stream",
          "name": "stdout",
          "text": [
            "string + digits--> abcdefghijklmnopqrstuvwxyzABCDEFGHIJKLMNOPQRSTUVWXYZ0123456789\n",
            "['l', 'T', 'U', 'J', 'V']\n",
            "lTUJV\n"
          ]
        }
      ]
    },
    {
      "cell_type": "code",
      "source": [
        "for i in range(-2,6):\n",
        "  print(\"100/\",i,\"-->\",100/i)"
      ],
      "metadata": {
        "colab": {
          "base_uri": "https://localhost:8080/",
          "height": 190
        },
        "id": "CnMt-u1abX8j",
        "outputId": "f0fe03d1-f0a5-4d69-d7cb-4642dc0b28f4"
      },
      "execution_count": null,
      "outputs": [
        {
          "output_type": "stream",
          "name": "stdout",
          "text": [
            "100/ -2 --> -50.0\n",
            "100/ -1 --> -100.0\n"
          ]
        },
        {
          "output_type": "error",
          "ename": "ZeroDivisionError",
          "evalue": "division by zero",
          "traceback": [
            "\u001b[0;31m---------------------------------------------------------------------------\u001b[0m",
            "\u001b[0;31mZeroDivisionError\u001b[0m                         Traceback (most recent call last)",
            "\u001b[0;32m<ipython-input-79-077fa9ee9c12>\u001b[0m in \u001b[0;36m<cell line: 1>\u001b[0;34m()\u001b[0m\n\u001b[1;32m      1\u001b[0m \u001b[0;32mfor\u001b[0m \u001b[0mi\u001b[0m \u001b[0;32min\u001b[0m \u001b[0mrange\u001b[0m\u001b[0;34m(\u001b[0m\u001b[0;34m-\u001b[0m\u001b[0;36m2\u001b[0m\u001b[0;34m,\u001b[0m\u001b[0;36m6\u001b[0m\u001b[0;34m)\u001b[0m\u001b[0;34m:\u001b[0m\u001b[0;34m\u001b[0m\u001b[0;34m\u001b[0m\u001b[0m\n\u001b[0;32m----> 2\u001b[0;31m   \u001b[0mprint\u001b[0m\u001b[0;34m(\u001b[0m\u001b[0;34m\"100/\"\u001b[0m\u001b[0;34m,\u001b[0m\u001b[0mi\u001b[0m\u001b[0;34m,\u001b[0m\u001b[0;34m\"-->\"\u001b[0m\u001b[0;34m,\u001b[0m\u001b[0;36m100\u001b[0m\u001b[0;34m/\u001b[0m\u001b[0mi\u001b[0m\u001b[0;34m)\u001b[0m\u001b[0;34m\u001b[0m\u001b[0;34m\u001b[0m\u001b[0m\n\u001b[0m",
            "\u001b[0;31mZeroDivisionError\u001b[0m: division by zero"
          ]
        }
      ]
    },
    {
      "cell_type": "code",
      "source": [
        "for i in range(-2,6):\n",
        "  try:\n",
        "    print(\"100/\",i,\"-->\",100/i)\n",
        "  except:\n",
        "    print(\"error\")\n"
      ],
      "metadata": {
        "colab": {
          "base_uri": "https://localhost:8080/"
        },
        "id": "fIbnhWUFbmAu",
        "outputId": "54df0992-c195-4de4-d0ee-a5a0652f23c8"
      },
      "execution_count": null,
      "outputs": [
        {
          "output_type": "stream",
          "name": "stdout",
          "text": [
            "100/ -2 --> -50.0\n",
            "100/ -1 --> -100.0\n",
            "error\n",
            "100/ 1 --> 100.0\n",
            "100/ 2 --> 50.0\n",
            "100/ 3 --> 33.333333333333336\n",
            "100/ 4 --> 25.0\n",
            "100/ 5 --> 20.0\n"
          ]
        }
      ]
    },
    {
      "cell_type": "code",
      "source": [
        "list=[1,2,3,4,5]\n",
        "for i in range(9):\n",
        "  try:\n",
        "    print(\"i-->\",list[i])\n",
        "  except:\n",
        "    print(\"error\")"
      ],
      "metadata": {
        "colab": {
          "base_uri": "https://localhost:8080/"
        },
        "id": "c7M5UX97cEHZ",
        "outputId": "48e6f79c-f71b-4d77-b848-9aaebc305dfa"
      },
      "execution_count": null,
      "outputs": [
        {
          "output_type": "stream",
          "name": "stdout",
          "text": [
            "i--> 1\n",
            "i--> 2\n",
            "i--> 3\n",
            "i--> 4\n",
            "i--> 5\n",
            "error\n",
            "error\n",
            "error\n",
            "error\n"
          ]
        }
      ]
    },
    {
      "cell_type": "code",
      "source": [
        "L=[\"Gurvani ahuja\",2.2,22]\n",
        "print(\"original list-->\",L)\n",
        "print(\"length of list is-->\",len(L))"
      ],
      "metadata": {
        "colab": {
          "base_uri": "https://localhost:8080/"
        },
        "id": "JS5iQ4rTcqKa",
        "outputId": "36ac2585-c33d-459c-d94a-c455124f453c"
      },
      "execution_count": null,
      "outputs": [
        {
          "output_type": "stream",
          "name": "stdout",
          "text": [
            "original list--> ['Gurvani ahuja', 2.2, 22]\n",
            "length of list is--> 3\n"
          ]
        }
      ]
    },
    {
      "cell_type": "code",
      "source": [
        "L=[\"Gurvani ahuja\",2.2,22]\n",
        "print(\"original list-->\",L)\n",
        "i=0\n",
        "while i<len(L):\n",
        "  print(L[i])\n",
        "  i=i+1"
      ],
      "metadata": {
        "colab": {
          "base_uri": "https://localhost:8080/"
        },
        "id": "Voc6jGNVjC8k",
        "outputId": "dcecccb6-def0-49bf-ed18-df9bff608f73"
      },
      "execution_count": null,
      "outputs": [
        {
          "output_type": "stream",
          "name": "stdout",
          "text": [
            "original list--> ['Gurvani ahuja', 2.2, 22]\n",
            "Gurvani ahuja\n",
            "2.2\n",
            "22\n"
          ]
        }
      ]
    },
    {
      "cell_type": "code",
      "source": [
        "L=[\"Gurvani ahuja\",2.2,22]\n",
        "print(\"original list-->\",L)\n",
        "for i in range(0,len(L)):\n",
        "  print(L[i])"
      ],
      "metadata": {
        "colab": {
          "base_uri": "https://localhost:8080/"
        },
        "id": "6396fHYsjyDG",
        "outputId": "64bcf9da-07dd-40a5-af07-c95ad6a0dd39"
      },
      "execution_count": null,
      "outputs": [
        {
          "output_type": "stream",
          "name": "stdout",
          "text": [
            "original list--> ['Gurvani ahuja', 2.2, 22]\n",
            "Gurvani ahuja\n",
            "2.2\n",
            "22\n"
          ]
        }
      ]
    },
    {
      "cell_type": "code",
      "source": [
        "L = [\"Pratham\",  'Sharma', 3.14,  3 ]\n",
        "print (\"Original List --> \", L)\n",
        "for s in L:\n",
        "\tprint (s)\n"
      ],
      "metadata": {
        "colab": {
          "base_uri": "https://localhost:8080/"
        },
        "id": "Iq8Sr5eikXpc",
        "outputId": "44a1ce6b-c261-4991-d882-cf875e4b6494"
      },
      "execution_count": null,
      "outputs": [
        {
          "output_type": "stream",
          "name": "stdout",
          "text": [
            "Original List -->  ['Pratham', 'Sharma', 3.14, 3]\n",
            "Pratham\n",
            "Sharma\n",
            "3.14\n",
            "3\n"
          ]
        }
      ]
    },
    {
      "cell_type": "code",
      "source": [
        "L=[\"Gurvani ahuja\",2.2,22]\n",
        "print(\"original list-->\",L)\n",
        "L.append(\"pari\")\n",
        "print(\"after adding-->\",L)\n",
        "del L[1]\n",
        "print(\"after deletion-->\",L)"
      ],
      "metadata": {
        "colab": {
          "base_uri": "https://localhost:8080/"
        },
        "id": "ztjlxbt4kcBC",
        "outputId": "70ee9131-b7c8-46c2-a6aa-0b2fa81776d3"
      },
      "execution_count": null,
      "outputs": [
        {
          "output_type": "stream",
          "name": "stdout",
          "text": [
            "original list--> ['Gurvani ahuja', 2.2, 22]\n",
            "after adding--> ['Gurvani ahuja', 2.2, 22, 'pari']\n",
            "after deletion--> ['Gurvani ahuja', 22, 'pari']\n"
          ]
        }
      ]
    },
    {
      "cell_type": "code",
      "source": [
        "L=[1,2,3,4,5,6,7]\n",
        "print(\"original list-->\",L)\n",
        "print(\"sum-->\",sum(L))\n",
        "print(\"average-->\",sum(L)/len(L))\n",
        "print(\"average-->\",sum(L)//len(L))\n",
        "print(\"L*4-->\",L*4)\n",
        "\n"
      ],
      "metadata": {
        "colab": {
          "base_uri": "https://localhost:8080/"
        },
        "id": "2H4ah6hLlCBp",
        "outputId": "124fc5eb-8690-475d-b83b-7cd7cfb5cda1"
      },
      "execution_count": null,
      "outputs": [
        {
          "output_type": "stream",
          "name": "stdout",
          "text": [
            "original list--> [1, 2, 3, 4, 5, 6, 7]\n",
            "sum--> 28\n",
            "average--> 4.0\n",
            "average--> 4\n",
            "L*4--> [1, 2, 3, 4, 5, 6, 7, 1, 2, 3, 4, 5, 6, 7, 1, 2, 3, 4, 5, 6, 7, 1, 2, 3, 4, 5, 6, 7]\n"
          ]
        }
      ]
    },
    {
      "cell_type": "code",
      "source": [
        "\n",
        "L=[5,6,2,3,1,8,7]\n",
        "print(\"original list-->\",L)\n",
        "print(\"max is-->\",max(L))\n",
        "print(\"min is-->\",min(L))\n",
        "L.sort()\n",
        "print(\" l after sort\",L)\n",
        "L.sort(reverse=True)\n",
        "print(\"descending\",L)"
      ],
      "metadata": {
        "colab": {
          "base_uri": "https://localhost:8080/"
        },
        "id": "XZw3hYVCnE0b",
        "outputId": "2f4a62be-120f-49d4-92df-87eef91bcd67"
      },
      "execution_count": null,
      "outputs": [
        {
          "output_type": "stream",
          "name": "stdout",
          "text": [
            "original list--> [5, 6, 2, 3, 1, 8, 7]\n",
            "max is--> 8\n",
            "min is--> 1\n",
            " l after sort [1, 2, 3, 5, 6, 7, 8]\n",
            "descending [8, 7, 6, 5, 3, 2, 1]\n"
          ]
        }
      ]
    },
    {
      "cell_type": "code",
      "source": [
        "L1=[1,2,3,4,5]\n",
        "L2=[7,8,10,12,22]\n",
        "L3=L1+L2\n",
        "print(L3)\n",
        "print(L3[2:])\n",
        "print(L3[::2])\n",
        "print(L3[:-1])"
      ],
      "metadata": {
        "colab": {
          "base_uri": "https://localhost:8080/"
        },
        "id": "0uN1Spv4oHnG",
        "outputId": "cd04f128-ce0b-4516-cb44-d26cb4e688a7"
      },
      "execution_count": null,
      "outputs": [
        {
          "output_type": "stream",
          "name": "stdout",
          "text": [
            "[1, 2, 3, 4, 5, 7, 8, 10, 12, 22]\n",
            "[3, 4, 5, 7, 8, 10, 12, 22]\n",
            "[1, 3, 5, 8, 12]\n",
            "[1, 2, 3, 4, 5, 7, 8, 10, 12]\n"
          ]
        }
      ]
    },
    {
      "cell_type": "code",
      "source": [
        "L=[5,6,2,3,1,8,7]\n",
        "print(\"original list-->\",L)\n",
        "newL=[i*5 for i in L]\n",
        "print (\"After Multiply with constant --> \", newL)"
      ],
      "metadata": {
        "colab": {
          "base_uri": "https://localhost:8080/"
        },
        "id": "aLou5syWpSy_",
        "outputId": "b6a7ce40-1b49-462c-b963-c161a6da3fe8"
      },
      "execution_count": null,
      "outputs": [
        {
          "output_type": "stream",
          "name": "stdout",
          "text": [
            "original list--> [5, 6, 2, 3, 1, 8, 7]\n",
            "After Multiply with constant -->  [25, 30, 10, 15, 5, 40, 35]\n"
          ]
        }
      ]
    },
    {
      "cell_type": "code",
      "source": [
        "L=[5,6,2,3,1,8,7]\n",
        "print(\"original list-->\",22 in L)\n",
        "print(\"original list-->\",6 in L)\n",
        "if 22 in L==True:\n",
        "  print(\"present\")\n",
        "else:\n",
        "  print(\"absent\")\n",
        "\n"
      ],
      "metadata": {
        "colab": {
          "base_uri": "https://localhost:8080/"
        },
        "id": "TOn94VNgqWlR",
        "outputId": "14688c97-de2b-46f8-9097-fb58e96fb891"
      },
      "execution_count": null,
      "outputs": [
        {
          "output_type": "stream",
          "name": "stdout",
          "text": [
            "original list--> False\n",
            "original list--> True\n",
            "absent\n"
          ]
        }
      ]
    },
    {
      "cell_type": "code",
      "source": [
        "cgpa={1:9.8,2:9.3,4:6.2}\n",
        "for k in cgpa:\n",
        "  print(\"cgpa[k] is :\",cgpa[k])\n",
        "\n"
      ],
      "metadata": {
        "colab": {
          "base_uri": "https://localhost:8080/"
        },
        "id": "l_kPIge9rRUA",
        "outputId": "6a877100-3e35-46d2-c901-f3ba5edc0eae"
      },
      "execution_count": null,
      "outputs": [
        {
          "output_type": "stream",
          "name": "stdout",
          "text": [
            "cgpa[k] is : 9.8\n",
            "cgpa[k] is : 9.3\n",
            "cgpa[k] is : 6.2\n"
          ]
        }
      ]
    },
    {
      "cell_type": "code",
      "source": [
        "cgpa={1:9.8,2:9.3,4:6.2}\n",
        "print(cgpa.keys())\n"
      ],
      "metadata": {
        "colab": {
          "base_uri": "https://localhost:8080/"
        },
        "id": "ix-d0uk6JLjd",
        "outputId": "564cea36-3aab-4458-c4b9-f1a254b1c10c"
      },
      "execution_count": null,
      "outputs": [
        {
          "output_type": "stream",
          "name": "stdout",
          "text": [
            "dict_keys([1, 2, 4])\n"
          ]
        }
      ]
    }
  ]
}