{
  "nbformat": 4,
  "nbformat_minor": 0,
  "metadata": {
    "colab": {
      "provenance": []
    },
    "kernelspec": {
      "name": "python3",
      "display_name": "Python 3"
    },
    "language_info": {
      "name": "python"
    }
  },
  "cells": [
    {
      "cell_type": "code",
      "execution_count": 2,
      "metadata": {
        "colab": {
          "base_uri": "https://localhost:8080/"
        },
        "id": "I1HP42ZLoPK1",
        "outputId": "a202ef77-6dd5-43e6-81b7-04dfc20f8a4e"
      },
      "outputs": [
        {
          "output_type": "stream",
          "name": "stdout",
          "text": [
            "adding 2 to given numpy:\n",
            "[3 4 5 6 7]\n",
            "multiplying 3 to given numpy:\n",
            "[ 3  6  9 12 15]\n",
            "dividing 2 from given numpy:\n",
            "[0.5 1.  1.5 2.  2.5]\n"
          ]
        }
      ],
      "source": [
        "import numpy as np\n",
        "a=np.array([1,2,3,4,5])\n",
        "print(\"adding 2 to given numpy:\")\n",
        "print(a+2)\n",
        "print(\"multiplying 3 to given numpy:\")\n",
        "print(a*3)\n",
        "print(\"dividing 2 from given numpy:\")\n",
        "print(a/2)\n"
      ]
    },
    {
      "cell_type": "code",
      "source": [
        "import numpy as np\n",
        "a=np.array([1,2,3,6,4,5])\n",
        "print(\"reversing the above numpy array\");\n",
        "print(a[::-1])\n",
        "print(np.flip(a))\n"
      ],
      "metadata": {
        "colab": {
          "base_uri": "https://localhost:8080/"
        },
        "id": "xJwS26aQrlcD",
        "outputId": "3737c50c-c5c2-4ab5-9b3c-c4d309e8df8b"
      },
      "execution_count": 2,
      "outputs": [
        {
          "output_type": "stream",
          "name": "stdout",
          "text": [
            "reversing the above numpy array\n",
            "[5 4 6 3 2 1]\n",
            "[5 4 6 3 2 1]\n"
          ]
        }
      ]
    },
    {
      "cell_type": "code",
      "source": [
        "import numpy as np\n",
        "from collections import Counter\n",
        "x = np.array([1,2,3,4,5,1,2,1,1,1])\n",
        "counter=Counter(x);\n",
        "#counter ka kaam hain counts the occurence of each unique value\n",
        "print(counter)\n",
        "most_common,frequency=counter.most_common(1)[0]\n",
        "print(\"most common value is\",most_common)\n",
        "print(\"frequncy is\",frequency)\n",
        "indices=np.where(x==most_common)[0]\n",
        "print(\"indices are\",indices);\n",
        "y = np.array([1, 1, 1, 2, 3, 4, 2, 4, 3, 3, ])\n",
        "counter=Counter(y);\n",
        "most_commonval,frequency2=counter.most_common(1)[0];\n",
        "print(\"most common value is\",most_commonval)\n",
        "print(\"frequncy is\",frequency2)\n",
        "indices2=np.where(y==most_common)[0]\n",
        "print(\"indices are\",indices2);\n",
        "\n",
        "\n"
      ],
      "metadata": {
        "colab": {
          "base_uri": "https://localhost:8080/"
        },
        "id": "kxH_XKQ9r9wN",
        "outputId": "96126d58-166c-4c5c-aeff-200a4604656e"
      },
      "execution_count": 16,
      "outputs": [
        {
          "output_type": "stream",
          "name": "stdout",
          "text": [
            "Counter({1: 5, 2: 2, 3: 1, 4: 1, 5: 1})\n",
            "most common value is 1\n",
            "frequncy is 5\n",
            "indices are [0 5 7 8 9]\n",
            "most common value is 1\n",
            "frequncy is 3\n",
            "indices are [0 1 2]\n"
          ]
        }
      ]
    },
    {
      "cell_type": "code",
      "source": [
        "arr=np.array([[10, 20, 30], [40, 50, 60], [70, 80, 90]])\n",
        "print(\"1st row,2nd coloumn:\")#index row=0,coloumn=1\n",
        "print(arr[0,1])\n",
        "print(\"3rd row,1st coloumn:\")\n",
        "print(arr[2,0])"
      ],
      "metadata": {
        "colab": {
          "base_uri": "https://localhost:8080/"
        },
        "id": "0ptGVUyTlH05",
        "outputId": "f8664261-e566-426f-fc5e-7d47345c9863"
      },
      "execution_count": 21,
      "outputs": [
        {
          "output_type": "stream",
          "name": "stdout",
          "text": [
            "1st row,2nd coloumn:\n",
            "20\n",
            "3rd row,1st coloumn:\n",
            "70\n"
          ]
        }
      ]
    },
    {
      "cell_type": "code",
      "source": [
        "your_name=np.linspace(10,100,25)#linspace(start,stop,totalnum in the array)\n",
        "print(\"array is\",your_name);\n",
        "print(\"the dimensions of array are\",your_name.ndim)\n",
        "print(\"shape is:\",your_name.shape)\n",
        "print(\"size is:\",your_name.size)\n",
        "print(\"data type :\",your_name.dtype)\n",
        "print(\"total. bytes consumed by the array:\",your_name.nbytes)\n",
        "print(\"transpose is\",your_name.T)\n"
      ],
      "metadata": {
        "colab": {
          "base_uri": "https://localhost:8080/"
        },
        "id": "gy2G-U-2mQwT",
        "outputId": "4c33939d-03e4-45eb-92cb-57c67e0ed598"
      },
      "execution_count": 22,
      "outputs": [
        {
          "output_type": "stream",
          "name": "stdout",
          "text": [
            "array is [ 10.    13.75  17.5   21.25  25.    28.75  32.5   36.25  40.    43.75\n",
            "  47.5   51.25  55.    58.75  62.5   66.25  70.    73.75  77.5   81.25\n",
            "  85.    88.75  92.5   96.25 100.  ]\n",
            "the dimensions of array are 1\n",
            "shape is: (25,)\n",
            "size is: 25\n",
            "data type : float64\n",
            "total. bytes consumed by the array: 200\n",
            "transpose is [ 10.    13.75  17.5   21.25  25.    28.75  32.5   36.25  40.    43.75\n",
            "  47.5   51.25  55.    58.75  62.5   66.25  70.    73.75  77.5   81.25\n",
            "  85.    88.75  92.5   96.25 100.  ]\n"
          ]
        }
      ]
    },
    {
      "cell_type": "code",
      "source": [
        "import numpy as np\n",
        "ucs420_Gurvani=np.array([[10,20,30,40],\n",
        "                          [50,60,70,80],\n",
        "                          [90,100,110,120]])\n",
        "print(\"mean\",np.mean(ucs420_Gurvani))\n",
        "print(\"median\",np.median(ucs420_Gurvani))\n",
        "print(\"max\",np.max(ucs420_Gurvani))\n",
        "print(\"min\",np.min(ucs420_Gurvani))\n",
        "print(\"unique\",np.unique(ucs420_Gurvani))\n",
        "reshape=ucs420_Gurvani.reshape(4,3)\n",
        "print(\"reshape\",reshape)\n",
        "resize=np.resize(ucs420_Gurvani, (2, 3))\n",
        "print(\"resize\",resize)\n"
      ],
      "metadata": {
        "colab": {
          "base_uri": "https://localhost:8080/"
        },
        "id": "G0soni49oF7X",
        "outputId": "8af53491-2561-4b09-ca89-e302c879f5c7"
      },
      "execution_count": 25,
      "outputs": [
        {
          "output_type": "stream",
          "name": "stdout",
          "text": [
            "mean 65.0\n",
            "median 65.0\n",
            "max 120\n",
            "min 10\n",
            "unique [ 10  20  30  40  50  60  70  80  90 100 110 120]\n",
            "reshape [[ 10  20  30]\n",
            " [ 40  50  60]\n",
            " [ 70  80  90]\n",
            " [100 110 120]]\n",
            "resize [[10 20 30]\n",
            " [40 50 60]]\n"
          ]
        }
      ]
    }
  ]
}